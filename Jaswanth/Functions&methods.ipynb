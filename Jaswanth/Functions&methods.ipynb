{
 "cells": [
  {
   "cell_type": "markdown",
   "metadata": {},
   "source": [
    "# Functions/Methods"
   ]
  },
  {
   "cell_type": "code",
   "execution_count": 1,
   "metadata": {},
   "outputs": [],
   "source": [
    "def name_of_function(arg1,arg2,arg3):\n",
    "    '''\n",
    "    THIS IS THE DOCUMENTATION OF THE FUNCTION\n",
    "    '''\n",
    "    #DO STUFF IN CODE OF LINES\n",
    "    #DO SOME\n",
    "    return NONE"
   ]
  },
  {
   "cell_type": "code",
   "execution_count": 2,
   "metadata": {},
   "outputs": [],
   "source": [
    "def addsum(num1,num2):\n",
    "    return num1+num2"
   ]
  },
  {
   "cell_type": "code",
   "execution_count": 3,
   "metadata": {},
   "outputs": [
    {
     "name": "stdout",
     "output_type": "stream",
     "text": [
      "Our sum is equal to : 62\n"
     ]
    }
   ],
   "source": [
    "print(\"Our sum is equal to :\",addsum(12,50))"
   ]
  },
  {
   "cell_type": "code",
   "execution_count": 4,
   "metadata": {},
   "outputs": [],
   "source": [
    "def Componumers(args):\n",
    "    if(eval(args) != 1 and eval(args)!=2 and eval(args)!=3  and eval(args)!=7):\n",
    "        if(eval(args)%2!=0 and eval(args)%3 != 0 and  eval(args)%5 != 0 and eval(args)%9 != 0 ):\n",
    "            print(args +\" are Composite no \")\n",
    "        else:\n",
    "            print(args +\" is not a Composite no\")\n",
    "    else:\n",
    "        print(args +\" is not a composite no\")"
   ]
  },
  {
   "cell_type": "code",
   "execution_count": null,
   "metadata": {},
   "outputs": [],
   "source": [
    "\n"
   ]
  },
  {
   "cell_type": "code",
   "execution_count": null,
   "metadata": {},
   "outputs": [
    {
     "name": "stdout",
     "output_type": "stream",
     "text": [
      "4 is not a Composite no\n"
     ]
    }
   ],
   "source": [
    "Componumers('4')"
   ]
  },
  {
   "cell_type": "code",
   "execution_count": null,
   "metadata": {},
   "outputs": [
    {
     "name": "stdout",
     "output_type": "stream",
     "text": [
      "7 is not a composite no\n"
     ]
    }
   ],
   "source": [
    "Componumers('7')\n"
   ]
  },
  {
   "cell_type": "code",
   "execution_count": null,
   "metadata": {},
   "outputs": [],
   "source": [
    "def Componumer(n):\n",
    "    p = False\n",
    "    for i in range(2,(int(n+1/2))):\n",
    "        if(n%i ==0):\n",
    "            p= True\n",
    "        if(p):\n",
    "            return(\"Composite\")\n",
    "        else:\n",
    "            return(\" not composite\")"
   ]
  },
  {
   "cell_type": "code",
   "execution_count": null,
   "metadata": {},
   "outputs": [
    {
     "data": {
      "text/plain": [
       "' not composite'"
      ]
     },
     "execution_count": 8,
     "metadata": {},
     "output_type": "execute_result"
    }
   ],
   "source": [
    "Componumer(17)"
   ]
  },
  {
   "cell_type": "code",
   "execution_count": null,
   "metadata": {},
   "outputs": [
    {
     "name": "stdout",
     "output_type": "stream",
     "text": [
      "0\n",
      "0\n",
      "True False True\n",
      "Jame paond\n"
     ]
    }
   ],
   "source": [
    "#def james_bond(n):\n",
    "A= False\n",
    "B = False\n",
    "C = False\n",
    "j=0\n",
    "my_List=[1,0,4,0,6,7]\n",
    "for i in my_List:\n",
    "    if( i == 0):\n",
    "        A = True \n",
    "        j=j+1\n",
    "        print(i)\n",
    "        continue        \n",
    "    \n",
    "    if(j ==2 and i == 7):        \n",
    "        C = True\n",
    "        break\n",
    "print( A ,B ,C)\n",
    "if(A == True  and C == True):\n",
    "    print(\"Jame paond\")\n",
    "else:\n",
    "    print(\"not bond\")\n",
    "    "
   ]
  },
  {
   "cell_type": "code",
   "execution_count": null,
   "metadata": {},
   "outputs": [],
   "source": [
    "board=[0,'1','2','3','4','5','6','7','8','9']\n"
   ]
  },
  {
   "cell_type": "code",
   "execution_count": null,
   "metadata": {},
   "outputs": [],
   "source": [
    "from IPython.display import clear_output\n",
    "def display_board(board):\n",
    "    clear_output()\n",
    "    print('        |      |      ')\n",
    "    print('     '+ board[7]+\"  |  \"+board[8]+\"   |  \"+board[9])\n",
    "    print(\"---------------------\")\n",
    "    print('        |      |       ')\n",
    "    print('     '+ board[4]+\"  |  \"+board[5]+\"   |  \"+board[6])\n",
    "    print('        |      |       ')\n",
    "    print(\"---------------------\")\n",
    "    print('        |      |       ')\n",
    "    print('     '+ board[1]+\"  |  \"+board[2]+\"   |  \"+board[3])\n",
    "    print('        |      |       ')\n",
    "        "
   ]
  },
  {
   "cell_type": "code",
   "execution_count": null,
   "metadata": {},
   "outputs": [
    {
     "name": "stdout",
     "output_type": "stream",
     "text": [
      "        |      |      \n",
      "     7  |  8   |  9\n",
      "---------------------\n",
      "        |      |       \n",
      "     4  |  5   |  6\n",
      "        |      |       \n",
      "---------------------\n",
      "        |      |       \n",
      "     1  |  2   |  3\n",
      "        |      |       \n"
     ]
    }
   ],
   "source": [
    "\n",
    "display_board(board)"
   ]
  },
  {
   "cell_type": "code",
   "execution_count": null,
   "metadata": {},
   "outputs": [],
   "source": [
    "def player_input():\n",
    "    marker =''\n",
    "    while not (marker == 'X' or marker == 'O'):\n",
    "        marker = input('player 1 : please choose a marker from X,O ? : ').upper()\n",
    "    if marker =='X':\n",
    "        return('X','O')\n",
    "    else:\n",
    "        return('O','X')"
   ]
  },
  {
   "cell_type": "code",
   "execution_count": null,
   "metadata": {},
   "outputs": [],
   "source": [
    "player_input()"
   ]
  },
  {
   "cell_type": "code",
   "execution_count": null,
   "metadata": {},
   "outputs": [],
   "source": [
    "player_input()"
   ]
  },
  {
   "cell_type": "code",
   "execution_count": null,
   "metadata": {},
   "outputs": [],
   "source": [
    "def place_marker(board,marker,position):\n",
    "    board[position] = marker"
   ]
  },
  {
   "cell_type": "code",
   "execution_count": null,
   "metadata": {},
   "outputs": [],
   "source": [
    "place_marker(board,' ',1)"
   ]
  },
  {
   "cell_type": "code",
   "execution_count": null,
   "metadata": {},
   "outputs": [],
   "source": [
    "display_board(board)"
   ]
  },
  {
   "cell_type": "code",
   "execution_count": null,
   "metadata": {},
   "outputs": [],
   "source": [
    "def win_check(board,marker):\n",
    "    if((board[7]==marker and board[4]==marker and board[1]==marker)or\n",
    "        (board[8]==marker and board[5]==marker and board[2]==marker) or\n",
    "        (board[9]==marker and board[6]==marker and board[3]==marker) or\n",
    "        (board[4]==marker and board[5]==marker and board[6]==marker) or\n",
    "        (board[1]==marker and board[2]==marker and board[3]==marker) or\n",
    "        (board[7]==marker and board[8]==marker and board[9]==marker) or\n",
    "        (board[7]==marker and board[5]==marker and board[3]==marker) or\n",
    "        (board[1]==marker and board[5]==marker and board[9]==marker) ):\n",
    "            return True\n",
    "    else:\n",
    "            return False\n",
    "    "
   ]
  },
  {
   "cell_type": "code",
   "execution_count": null,
   "metadata": {},
   "outputs": [],
   "source": [
    "win_check(board,'X')"
   ]
  },
  {
   "cell_type": "code",
   "execution_count": null,
   "metadata": {},
   "outputs": [],
   "source": [
    "board = [0,'X','O','X','O','X','O','X','O','X']"
   ]
  },
  {
   "cell_type": "code",
   "execution_count": null,
   "metadata": {},
   "outputs": [],
   "source": [
    "win_check(board,'X')"
   ]
  },
  {
   "cell_type": "code",
   "execution_count": null,
   "metadata": {},
   "outputs": [],
   "source": [
    "import random\n",
    "def choose_first():\n",
    "    if(random.randint(1,2) == 1):\n",
    "        return \"player 1\"\n",
    "    else:\n",
    "        return \"player 2\""
   ]
  },
  {
   "cell_type": "code",
   "execution_count": null,
   "metadata": {},
   "outputs": [],
   "source": [
    "choose_first()\n"
   ]
  },
  {
   "cell_type": "code",
   "execution_count": null,
   "metadata": {},
   "outputs": [],
   "source": [
    "choose_first()"
   ]
  },
  {
   "cell_type": "code",
   "execution_count": null,
   "metadata": {},
   "outputs": [],
   "source": [
    "choose_first()"
   ]
  },
  {
   "cell_type": "code",
   "execution_count": null,
   "metadata": {},
   "outputs": [],
   "source": [
    "def space_check(board,position):\n",
    "    return board[position]==' '"
   ]
  },
  {
   "cell_type": "code",
   "execution_count": null,
   "metadata": {},
   "outputs": [],
   "source": [
    "space_check(board,1)"
   ]
  },
  {
   "cell_type": "code",
   "execution_count": null,
   "metadata": {},
   "outputs": [],
   "source": [
    "space_check(board,2)"
   ]
  },
  {
   "cell_type": "code",
   "execution_count": null,
   "metadata": {},
   "outputs": [],
   "source": [
    "def full_board_check(board):\n",
    "    for i in range(1,10):\n",
    "        if space_check(board,i):\n",
    "            return False\n",
    "    return True\n"
   ]
  },
  {
   "cell_type": "code",
   "execution_count": null,
   "metadata": {},
   "outputs": [],
   "source": [
    "full_board_check(board)\n"
   ]
  },
  {
   "cell_type": "code",
   "execution_count": null,
   "metadata": {},
   "outputs": [],
   "source": [
    "def free_position():\n",
    "    lock_pos = input(\"please choose the position to lock ?\")\n",
    "    if(space_check(board,eval(lock_pos))):\n",
    "        print(\"please go ahead\")\n",
    "    else:\n",
    "        print(\"Please choose some other free position\")"
   ]
  },
  {
   "cell_type": "code",
   "execution_count": null,
   "metadata": {},
   "outputs": [],
   "source": [
    "free_position()\n"
   ]
  },
  {
   "cell_type": "code",
   "execution_count": null,
   "metadata": {},
   "outputs": [],
   "source": [
    "free_position()\n"
   ]
  },
  {
   "cell_type": "code",
   "execution_count": null,
   "metadata": {},
   "outputs": [],
   "source": [
    "def player_choice(board):\n",
    "    position = 0\n",
    "    while position not in [1,2,3,4,5,6,7,8,9] or not space_check(board,position):\n",
    "        position = int(input(\"Enter your next position (1-9) :\"))\n",
    "    return position"
   ]
  },
  {
   "cell_type": "code",
   "execution_count": null,
   "metadata": {},
   "outputs": [],
   "source": [
    "player_choice(board)"
   ]
  },
  {
   "cell_type": "code",
   "execution_count": null,
   "metadata": {},
   "outputs": [],
   "source": [
    "def replay():\n",
    "    return input(\"Enter Yes to play again : \").lower().startswith('y')\n"
   ]
  },
  {
   "cell_type": "code",
   "execution_count": null,
   "metadata": {},
   "outputs": [],
   "source": [
    "replay()\n"
   ]
  },
  {
   "cell_type": "raw",
   "metadata": {},
   "source": [
    "replay()"
   ]
  },
  {
   "cell_type": "code",
   "execution_count": null,
   "metadata": {},
   "outputs": [],
   "source": [
    "replay()\n"
   ]
  },
  {
   "cell_type": "code",
   "execution_count": null,
   "metadata": {},
   "outputs": [],
   "source": [
    "replay()\n"
   ]
  },
  {
   "cell_type": "code",
   "execution_count": null,
   "metadata": {},
   "outputs": [],
   "source": [
    "replay()\n"
   ]
  },
  {
   "cell_type": "markdown",
   "metadata": {},
   "source": [
    "# Final assembly"
   ]
  },
  {
   "cell_type": "code",
   "execution_count": null,
   "metadata": {},
   "outputs": [],
   "source": [
    "print(' Welcome to the nikils Tic Tac Toe' )\n",
    "\n",
    "while True: \n",
    "    board = [' ']* 10\n",
    "    player1_marker,player2_marker = player_input()\n",
    "    \n",
    "    turn = choose_first()\n",
    "    \n",
    "    print( turn + \" Will be playing first \")\n",
    "    \n",
    "    play_game = input (' Are you ready to start the game yes or no ')\n",
    "    \n",
    "    if play_game.lower()[0] == 'y':\n",
    "        game_on = True\n",
    "    else:\n",
    "        game_on = False\n",
    "        \n",
    "    \n",
    "    while game_on :\n",
    "        if turn == 'Player 1':\n",
    "            # player 1 turn\n",
    "            \n",
    "            display_board(board)\n",
    "            position = player_choice(board)\n",
    "            place_marker(board,player1_marker,position)\n",
    "            \n",
    "            if win_check(board,player1_marker):\n",
    "                display_board(board)\n",
    "                print(\" Player 1 has won the game, congo !!\")\n",
    "                game_on = False\n",
    "            else:\n",
    "                if full_board_check(board) : \n",
    "                    display_board(board)\n",
    "                    print(\"Game draw !\")\n",
    "                    break\n",
    "                else:\n",
    "                    turn = 'Player 2'\n",
    "        else:\n",
    "            #Player 2 Turn \n",
    "            \n",
    "            display_board(board)\n",
    "            position = player_choice(board)\n",
    "            place_marker(board,player2_marker,position)\n",
    "            \n",
    "            if win_check(board,player2_marker):\n",
    "                display_board(board)\n",
    "                print(\" Player 2 has won the game, congo !!\")\n",
    "                game_on = False\n",
    "            else:\n",
    "                if full_board_check(board) : \n",
    "                    display_board(board)\n",
    "                    print(\"Game draw !\")\n",
    "                    break\n",
    "                else:\n",
    "                    turn = 'Player 1'\n",
    "        \n",
    "    if not replay():n\n",
    "        \n",
    "        break;\n",
    "        "
   ]
  },
  {
   "cell_type": "code",
   "execution_count": null,
   "metadata": {},
   "outputs": [],
   "source": [
    "print(' Welcome to the nikils Tic Tac Toe' )\n",
    "\n",
    "while True: \n",
    "    board = [' ']* 10\n",
    "    player1_marker,player2_marker = player_input()\n",
    "    \n",
    "    turn = choose_first()\n",
    "    \n",
    "    print( turn + \" Will be playing first \")\n",
    "    \n",
    "    play_game = input (' Are you ready to start the game yes or no ')\n",
    "    \n",
    "    if play_game.lower()[0] == 'y':\n",
    "        game_on = True\n",
    "    else:\n",
    "        game_on = False\n",
    "        \n",
    "    \n",
    "    while game_on :\n",
    "        if turn == 'Player 1':\n",
    "            # player 1 turn\n",
    "            \n",
    "            display_board(board)\n",
    "            position = player_choice(board)\n",
    "            place_marker(board,player1_marker,position)\n",
    "            \n",
    "            if win_check(board,player1_marker):\n",
    "                display_board(board)\n",
    "                print(\" Player 1 has won the game, congo !!\")\n",
    "                game_on = False\n",
    "            else:\n",
    "                if full_board_check(board) : \n",
    "                    display_board(board)\n",
    "                    print(\"Game draw !\")\n",
    "                    break\n",
    "                else:\n",
    "                    turn = 'Player 2'\n",
    "        else:\n",
    "            #Player 2 Turn \n",
    "            \n",
    "            display_board(board)\n",
    "            position = player_choice(board)\n",
    "            place_marker(board,player2_marker,position)\n",
    "            \n",
    "            if win_check(board,player2_marker):\n",
    "                display_board(board)\n",
    "                print(\" Player 2 has won the game, congo !!\")\n",
    "                game_on = False\n",
    "            else:\n",
    "                if full_board_check(board) : \n",
    "                    display_board(board)\n",
    "                    print(\"Game draw !\")\n",
    "                    break\n",
    "                else:\n",
    "                    turn = 'Player 1'\n",
    "        \n",
    "    if not replay():\n",
    "        \n",
    "        break;\n",
    "        "
   ]
  },
  {
   "cell_type": "code",
   "execution_count": null,
   "metadata": {},
   "outputs": [],
   "source": [
    "print(\"test\")"
   ]
  },
  {
   "cell_type": "code",
   "execution_count": null,
   "metadata": {},
   "outputs": [],
   "source": []
  },
  {
   "cell_type": "code",
   "execution_count": null,
   "metadata": {},
   "outputs": [],
   "source": []
  },
  {
   "cell_type": "code",
   "execution_count": null,
   "metadata": {},
   "outputs": [],
   "source": []
  }
 ],
 "metadata": {
  "kernelspec": {
   "display_name": "Python 3",
   "language": "python",
   "name": "python3"
  },
  "language_info": {
   "codemirror_mode": {
    "name": "ipython",
    "version": 3
   },
   "file_extension": ".py",
   "mimetype": "text/x-python",
   "name": "python",
   "nbconvert_exporter": "python",
   "pygments_lexer": "ipython3",
   "version": "3.7.1"
  }
 },
 "nbformat": 4,
 "nbformat_minor": 2
}
