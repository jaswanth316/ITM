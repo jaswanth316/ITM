{
 "cells": [
  {
   "cell_type": "markdown",
   "metadata": {},
   "source": [
    "# *Args & **Kwargs"
   ]
  },
  {
   "cell_type": "code",
   "execution_count": 1,
   "metadata": {},
   "outputs": [],
   "source": [
    "def myfunc(arg1,arg2):\n",
    "    print(arg1,arg2)"
   ]
  },
  {
   "cell_type": "code",
   "execution_count": 2,
   "metadata": {},
   "outputs": [
    {
     "name": "stdout",
     "output_type": "stream",
     "text": [
      "jaswa gg\n"
     ]
    }
   ],
   "source": [
    "myfunc(\"jaswa\",\"gg\")"
   ]
  },
  {
   "cell_type": "code",
   "execution_count": 3,
   "metadata": {},
   "outputs": [],
   "source": [
    "def myfunc1(*names):\n",
    "    print(names)"
   ]
  },
  {
   "cell_type": "code",
   "execution_count": 4,
   "metadata": {},
   "outputs": [
    {
     "name": "stdout",
     "output_type": "stream",
     "text": [
      "('jaswanth', 'fsgfg', 1, 2)\n"
     ]
    }
   ],
   "source": [
    "myfunc1(\"jaswanth\",\"fsgfg\",1,2)"
   ]
  },
  {
   "cell_type": "code",
   "execution_count": 5,
   "metadata": {},
   "outputs": [],
   "source": [
    "#dummy function with some level of complexity\n",
    "#i need to first pass 3 string and print it\n",
    "#i need next three elements to be done an addition \n",
    "#7th item is a list we need to print that list\n",
    "\n",
    "def dummy_func(*args):\n",
    "    for i in range(0,3):\n",
    "        print(args[i])\n",
    "    sum = 0\n",
    "    for i in range(3,6):\n",
    "        sum+=args[i]\n",
    "    print(sum)\n",
    "    print(args[len(args)-1])\n",
    "    "
   ]
  },
  {
   "cell_type": "code",
   "execution_count": 6,
   "metadata": {},
   "outputs": [
    {
     "name": "stdout",
     "output_type": "stream",
     "text": [
      "jas\n",
      "hij\n",
      "ghi\n",
      "10\n",
      "[2, 3, 5, 4, 6, 9, 8, 7]\n"
     ]
    }
   ],
   "source": [
    "dummy_func(\"jas\",\"hij\",\"ghi\",2,3,5,[2,3,5,4,6,9,8,7])"
   ]
  },
  {
   "cell_type": "code",
   "execution_count": 11,
   "metadata": {},
   "outputs": [],
   "source": [
    "#kwargs\n",
    "\n",
    "def my_kw_fun(**kwargs):\n",
    "    if 'fruit' in kwargs:\n",
    "        print(f\"my favorite fruit is {kwargs['fruit']}\")\n",
    "        #print(\"my favorite fruit is \",kwargs['fruit'])\n",
    "    else:\n",
    "        print(\"i dont like fruit\")\n",
    "    if 'animal' in kwargs:\n",
    "        print(f\"my favorite animal is {kwargs['animal']}\")\n",
    "    else:\n",
    "        print(\"i dont like animal\")\n",
    "    if 'color' in kwargs:\n",
    "        print(f\"my favorite color is {kwargs['color']}\")\n",
    "    else:\n",
    "        print(\"i dont like color\")"
   ]
  },
  {
   "cell_type": "code",
   "execution_count": 16,
   "metadata": {},
   "outputs": [
    {
     "name": "stdout",
     "output_type": "stream",
     "text": [
      "my favorite fruit is apple\n",
      "my favorite animal is lion\n",
      "my favorite color is yelloow\n"
     ]
    }
   ],
   "source": [
    "my_kw_fun(fruit=\"apple\",animal=\"lion\",color=\"yelloow\")"
   ]
  },
  {
   "cell_type": "code",
   "execution_count": null,
   "metadata": {},
   "outputs": [],
   "source": []
  }
 ],
 "metadata": {
  "kernelspec": {
   "display_name": "Python 3",
   "language": "python",
   "name": "python3"
  },
  "language_info": {
   "codemirror_mode": {
    "name": "ipython",
    "version": 3
   },
   "file_extension": ".py",
   "mimetype": "text/x-python",
   "name": "python",
   "nbconvert_exporter": "python",
   "pygments_lexer": "ipython3",
   "version": "3.7.1"
  }
 },
 "nbformat": 4,
 "nbformat_minor": 2
}
